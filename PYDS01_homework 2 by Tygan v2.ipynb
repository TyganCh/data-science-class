{
 "cells": [
  {
   "cell_type": "code",
   "execution_count": 1,
   "id": "559919a7-150d-46c0-8352-1bb19cb88c9c",
   "metadata": {},
   "outputs": [],
   "source": [
    "#Question 2: 3-digit sums\n",
    "#Sum the digit from the range of 100, 999. Print out the number of the sum is 7\n",
    "\n",
    "#Example1: \n",
    "#func2(124)\n",
    "#> 124\n",
    "#(Print the number because 1+2+4=7)\n",
    "\n",
    "#Example2: \n",
    "#func2(190)\n",
    "#> \n",
    "#(Don't print because 1+9+0=10)"
   ]
  },
  {
   "cell_type": "code",
   "execution_count": 5,
   "id": "06bd6679-5e09-4687-9d1b-26a1aab2d71e",
   "metadata": {},
   "outputs": [],
   "source": [
    "def func(first_number,last_number):\n",
    "    for i in range(first_number, last_number + 1):\n",
    "        sum = 0\n",
    "        for digit in str(i): \n",
    "            sum += int(digit)\n",
    "        if sum == 7:\n",
    "            print(i)"
   ]
  },
  {
   "cell_type": "code",
   "execution_count": 6,
   "id": "951e6ebd-cfde-4a9d-acc9-78e0e2c4daff",
   "metadata": {},
   "outputs": [
    {
     "name": "stdout",
     "output_type": "stream",
     "text": [
      "106\n",
      "115\n",
      "124\n",
      "133\n",
      "142\n",
      "151\n",
      "160\n",
      "205\n",
      "214\n",
      "223\n",
      "232\n",
      "241\n",
      "250\n",
      "304\n",
      "313\n",
      "322\n",
      "331\n",
      "340\n",
      "403\n",
      "412\n",
      "421\n",
      "430\n",
      "502\n",
      "511\n",
      "520\n",
      "601\n",
      "610\n",
      "700\n"
     ]
    }
   ],
   "source": [
    "func(100,999)"
   ]
  },
  {
   "cell_type": "code",
   "execution_count": 14,
   "id": "14062ac2-8ae1-4e01-aaef-ef16a644a7e8",
   "metadata": {},
   "outputs": [],
   "source": [
    "def func2(first_number,last_number):\n",
    "    for i in range(first_number, last_number + 1):\n",
    "        print(i)"
   ]
  },
  {
   "cell_type": "code",
   "execution_count": 15,
   "id": "da82c850-6211-4e7b-a954-eb2966a346f1",
   "metadata": {},
   "outputs": [
    {
     "name": "stdout",
     "output_type": "stream",
     "text": [
      "3\n",
      "4\n",
      "5\n"
     ]
    }
   ],
   "source": [
    "func2(3,5)"
   ]
  },
  {
   "cell_type": "code",
   "execution_count": 9,
   "id": "f46826fa-fc1a-47cd-9141-1876ddfad100",
   "metadata": {},
   "outputs": [],
   "source": [
    "def getSum(n):\n",
    "    \n",
    "    sum = 0\n",
    "    for digit in str(n): \n",
    "        sum += int(digit)\n",
    "        if sum == 7:\n",
    "            print(n)\n",
    "    "
   ]
  },
  {
   "cell_type": "code",
   "execution_count": 11,
   "id": "6fcbde96-20d2-4374-9419-3ce883d9c815",
   "metadata": {},
   "outputs": [
    {
     "name": "stdout",
     "output_type": "stream",
     "text": [
      "160\n",
      "160\n"
     ]
    }
   ],
   "source": [
    "getSum(160)"
   ]
  },
  {
   "cell_type": "code",
   "execution_count": 151,
   "id": "24e06d67-08c8-4624-ab6c-0d363a12bfeb",
   "metadata": {},
   "outputs": [
    {
     "name": "stdout",
     "output_type": "stream",
     "text": [
      "6\n"
     ]
    }
   ],
   "source": [
    "def getSum(n):\n",
    "    \n",
    "    sum = 0\n",
    "    while (n != 0):\n",
    "       \n",
    "        sum = sum + (n % 10)\n",
    "        n = n//10\n",
    "       \n",
    "    return sum\n",
    "   \n",
    "n = 123\n",
    "print(getSum(n))"
   ]
  }
 ],
 "metadata": {
  "kernelspec": {
   "display_name": "Python 3 (ipykernel)",
   "language": "python",
   "name": "python3"
  },
  "language_info": {
   "codemirror_mode": {
    "name": "ipython",
    "version": 3
   },
   "file_extension": ".py",
   "mimetype": "text/x-python",
   "name": "python",
   "nbconvert_exporter": "python",
   "pygments_lexer": "ipython3",
   "version": "3.9.12"
  }
 },
 "nbformat": 4,
 "nbformat_minor": 5
}
